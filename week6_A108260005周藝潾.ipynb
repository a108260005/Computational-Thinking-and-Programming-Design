{
  "nbformat": 4,
  "nbformat_minor": 0,
  "metadata": {
    "colab": {
      "name": "week6-A108260005周藝潾.ipynb",
      "provenance": [],
      "include_colab_link": true
    },
    "kernelspec": {
      "name": "python3",
      "display_name": "Python 3"
    }
  },
  "cells": [
    {
      "cell_type": "markdown",
      "metadata": {
        "id": "view-in-github",
        "colab_type": "text"
      },
      "source": [
        "<a href=\"https://colab.research.google.com/github/qqqqqq78910/Computational-Thinking-and-Programming-Design/blob/master/week6_A108260005%E5%91%A8%E8%97%9D%E6%BD%BE.ipynb\" target=\"_parent\"><img src=\"https://colab.research.google.com/assets/colab-badge.svg\" alt=\"Open In Colab\"/></a>"
      ]
    },
    {
      "cell_type": "code",
      "metadata": {
        "id": "0oBt0oeWK_jO",
        "colab_type": "code",
        "colab": {
          "base_uri": "https://localhost:8080/",
          "height": 85
        },
        "outputId": "08c06a36-b115-48d2-bc61-fa076cb3e4f2"
      },
      "source": [
        "minutes_to_convert = 123\n",
        "hours_decimal = minutes_to_convert/60\n",
        "hours_part = int(hours_decimal)\n",
        "minutes_decimal = hours_decimal-hours_part\n",
        "minutes_part = round(minutes_decimal*60)\n",
        "print(\"Hours\")\n",
        "print(hours_part)\n",
        "print(\"Minutes\")\n",
        "print(minutes_part)"
      ],
      "execution_count": 4,
      "outputs": [
        {
          "output_type": "stream",
          "text": [
            "Hours\n",
            "2\n",
            "Minutes\n",
            "3\n"
          ],
          "name": "stdout"
        }
      ]
    },
    {
      "cell_type": "code",
      "metadata": {
        "id": "QYn1TVbWRtp0",
        "colab_type": "code",
        "colab": {
          "base_uri": "https://localhost:8080/",
          "height": 85
        },
        "outputId": "909a6d10-5bb8-4e52-f672-5fc2e3c73873"
      },
      "source": [
        "minutes_to_convert = 123\n",
        "hours_decimal = minutes_to_convert/60\n",
        "hours_part = int(hours_decimal)\n",
        "minutes_part = minutes_to_convert%60\n",
        "print(\"Hours\")\n",
        "print(hours_part)\n",
        "print(\"Minutes\")\n",
        "print(minutes_part)"
      ],
      "execution_count": 5,
      "outputs": [
        {
          "output_type": "stream",
          "text": [
            "Hours\n",
            "2\n",
            "Minutes\n",
            "3\n"
          ],
          "name": "stdout"
        }
      ]
    },
    {
      "cell_type": "code",
      "metadata": {
        "id": "q8R5u-LmR2Qs",
        "colab_type": "code",
        "colab": {
          "base_uri": "https://localhost:8080/",
          "height": 102
        },
        "outputId": "3e8c2a11-7dca-491f-9b0b-6668e31100ff"
      },
      "source": [
        "a = int(input('請輸入第一次期中考成績？'))\n",
        "b= int(input('請輸入第二次期中考成績？'))\n",
        "c= int(input('請輸入期末考成績？'))\n",
        "總成績 = a + b + c\n",
        "print('計算分數的加總為', 總成績)\n",
        "平均 =(a+b+c)/3\n",
        "print('計算分數的平均為', 平均)"
      ],
      "execution_count": 11,
      "outputs": [
        {
          "output_type": "stream",
          "text": [
            "請輸入第一次期中考成績？75\n",
            "請輸入第二次期中考成績？80\n",
            "請輸入期末考成績？65\n",
            "計算分數的加總為 220\n",
            "計算分數的平均為 73.33333333333333\n"
          ],
          "name": "stdout"
        }
      ]
    },
    {
      "cell_type": "code",
      "metadata": {
        "id": "zTm9so-5eKjx",
        "colab_type": "code",
        "colab": {
          "base_uri": "https://localhost:8080/",
          "height": 68
        },
        "outputId": "e1bb47ad-1e69-47e4-ff65-bbe11cd84515"
      },
      "source": [
        "x = int(input('請輸入幾尺？'))\n",
        "y = int(input('請輸入幾吋？'))\n",
        "z =(5*12+8)*2.54\n",
        "print('轉換成公分',z,'公分')"
      ],
      "execution_count": 13,
      "outputs": [
        {
          "output_type": "stream",
          "text": [
            "請輸入幾尺？5\n",
            "請輸入幾吋？8\n",
            "轉換成公分 172.72 公分\n"
          ],
          "name": "stdout"
        }
      ]
    },
    {
      "cell_type": "code",
      "metadata": {
        "id": "znIfCKOkgBIY",
        "colab_type": "code",
        "colab": {}
      },
      "source": [
        ""
      ],
      "execution_count": 0,
      "outputs": []
    }
  ]
}