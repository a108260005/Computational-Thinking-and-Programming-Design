{
  "nbformat": 4,
  "nbformat_minor": 0,
  "metadata": {
    "colab": {
      "name": "A108260005周藝潾.ipynb",
      "provenance": [],
      "include_colab_link": true
    },
    "kernelspec": {
      "name": "python3",
      "display_name": "Python 3"
    }
  },
  "cells": [
    {
      "cell_type": "markdown",
      "metadata": {
        "id": "view-in-github",
        "colab_type": "text"
      },
      "source": [
        "<a href=\"https://colab.research.google.com/github/qqqqqq78910/Computational-Thinking-and-Programming-Design/blob/master/A108260005%E5%91%A8%E8%97%9D%E6%BD%BE.ipynb\" target=\"_parent\"><img src=\"https://colab.research.google.com/assets/colab-badge.svg\" alt=\"Open In Colab\"/></a>"
      ]
    },
    {
      "cell_type": "code",
      "metadata": {
        "id": "wRI3m3d6he3F",
        "colab_type": "code",
        "colab": {
          "base_uri": "https://localhost:8080/",
          "height": 51
        },
        "outputId": "8841af44-a957-4cc0-8c85-8ab72297964c"
      },
      "source": [
        "score=int(input('請輸入一個成績'))\n",
        "if score >=60:\n",
        "  print('繼續保持')"
      ],
      "execution_count": 6,
      "outputs": [
        {
          "output_type": "stream",
          "text": [
            "請輸入一個成績８８\n",
            "繼續保持\n"
          ],
          "name": "stdout"
        }
      ]
    },
    {
      "cell_type": "code",
      "metadata": {
        "id": "5ARC1RUQiNLC",
        "colab_type": "code",
        "colab": {
          "base_uri": "https://localhost:8080/",
          "height": 51
        },
        "outputId": "1f070c7b-8d89-417b-d776-a5e958841056"
      },
      "source": [
        "score=int(input('請輸入一個成績'))\n",
        "if score >=60:\n",
        "  print('有及格')\n",
        "else:\n",
        "  print('沒及格')  "
      ],
      "execution_count": 11,
      "outputs": [
        {
          "output_type": "stream",
          "text": [
            "請輸入一個成績50\n",
            "沒及格\n"
          ],
          "name": "stdout"
        }
      ]
    },
    {
      "cell_type": "code",
      "metadata": {
        "id": "hJVEuPR7jl5o",
        "colab_type": "code",
        "colab": {
          "base_uri": "https://localhost:8080/",
          "height": 51
        },
        "outputId": "9bbc9c81-c344-4489-81d6-ed1c0adbf849"
      },
      "source": [
        "score=int(input('請輸入一個成績'))\n",
        "if score >=80:\n",
        "  print('非常好')\n",
        "elif score>=60:\n",
        "  print('不錯喔')\n",
        "else:\n",
        "  print('加油')"
      ],
      "execution_count": 12,
      "outputs": [
        {
          "output_type": "stream",
          "text": [
            "請輸入一個成績６６\n",
            "不錯喔\n"
          ],
          "name": "stdout"
        }
      ]
    },
    {
      "cell_type": "code",
      "metadata": {
        "id": "BnsdIVNSkuY_",
        "colab_type": "code",
        "colab": {
          "base_uri": "https://localhost:8080/",
          "height": 68
        },
        "outputId": "3ae15b14-ad87-4032-9d99-ef1544a11db5"
      },
      "source": [
        "x=float(input('輸入ｘ座標'))\n",
        "y=float(input('輸入ｙ座標'))\n",
        "if(x>0):\n",
        "  if(y>0):\n",
        "    print('該點在第一象限')\n",
        "  else:\n",
        "      print('該點在第四象限')\n",
        "else:\n",
        "  if(y>0):\n",
        "    print('該點在第二象限')\n",
        "  else:\n",
        "    print('該點在第三象限')"
      ],
      "execution_count": 19,
      "outputs": [
        {
          "output_type": "stream",
          "text": [
            "輸入ｘ座標１\n",
            "輸入ｙ座標１\n",
            "該點在第一象限\n"
          ],
          "name": "stdout"
        }
      ]
    },
    {
      "cell_type": "code",
      "metadata": {
        "id": "WRWlGDxcmFsV",
        "colab_type": "code",
        "colab": {
          "base_uri": "https://localhost:8080/",
          "height": 51
        },
        "outputId": "0d289438-6bd9-4eb4-ef65-a6f1bb799340"
      },
      "source": [
        "num=int(input('輸入一個整數'))\n",
        "if num % 2 ==0:\n",
        "  print(num,'為偶數')\n",
        "else:\n",
        "  print(num,'為奇數')  "
      ],
      "execution_count": 20,
      "outputs": [
        {
          "output_type": "stream",
          "text": [
            "輸入一個整數１３\n",
            "13 為奇數\n"
          ],
          "name": "stdout"
        }
      ]
    },
    {
      "cell_type": "code",
      "metadata": {
        "id": "IsUw5vwMngYf",
        "colab_type": "code",
        "colab": {}
      },
      "source": [
        ""
      ],
      "execution_count": 0,
      "outputs": []
    }
  ]
}