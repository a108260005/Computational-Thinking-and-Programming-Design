{
  "nbformat": 4,
  "nbformat_minor": 0,
  "metadata": {
    "colab": {
      "name": "week8-A108260005-周藝潾.ipynb",
      "provenance": [],
      "include_colab_link": true
    },
    "kernelspec": {
      "name": "python3",
      "display_name": "Python 3"
    }
  },
  "cells": [
    {
      "cell_type": "markdown",
      "metadata": {
        "id": "view-in-github",
        "colab_type": "text"
      },
      "source": [
        "<a href=\"https://colab.research.google.com/github/qqqqqq78910/Computational-Thinking-and-Programming-Design/blob/master/week8_A108260005_%E5%91%A8%E8%97%9D%E6%BD%BE.ipynb\" target=\"_parent\"><img src=\"https://colab.research.google.com/assets/colab-badge.svg\" alt=\"Open In Colab\"/></a>"
      ]
    },
    {
      "cell_type": "code",
      "metadata": {
        "id": "FEXuJkO_WQME",
        "colab_type": "code",
        "colab": {
          "base_uri": "https://localhost:8080/",
          "height": 68
        },
        "outputId": "a94c62b5-c260-4460-f837-eacaa5e818c5"
      },
      "source": [
        "print(\"Welcome to the Mashup Game!\")\n",
        "name1 = input(\"Enter one full name (FIRST LAST): \")\n",
        "name2 = input(\"Enter another full name (FIRST LAST): \")"
      ],
      "execution_count": 12,
      "outputs": [
        {
          "output_type": "stream",
          "text": [
            "Welcome to the Mashup Game!\n",
            "Enter one full name (FIRST LAST): 123\n",
            "Enter another full name (FIRST LAST): 456\n"
          ],
          "name": "stdout"
        }
      ]
    },
    {
      "cell_type": "code",
      "metadata": {
        "id": "JFbUWXm8iKhN",
        "colab_type": "code",
        "colab": {
          "base_uri": "https://localhost:8080/",
          "height": 51
        },
        "outputId": "3cefcaac-9ad5-4124-b10f-27e592766739"
      },
      "source": [
        "s=input('請輸入一個字串?')\n",
        "print('迴文判斷結果為', s == s[::-1])"
      ],
      "execution_count": 13,
      "outputs": [
        {
          "output_type": "stream",
          "text": [
            "請輸入一個字串?asdfggfdsa\n",
            "迴文判斷結果為 True\n"
          ],
          "name": "stdout"
        }
      ]
    },
    {
      "cell_type": "code",
      "metadata": {
        "id": "LnroefdQixJT",
        "colab_type": "code",
        "colab": {
          "base_uri": "https://localhost:8080/",
          "height": 136
        },
        "outputId": "cf60ee1b-76c0-45f3-cbb9-b826dbc1731d"
      },
      "source": [
        "待辦事項 = []\n",
        "工作 = input('請輸入待辦事項?')\n",
        "待辦事項.append(工作)\n",
        "工作 = input('請輸入待辦事項?')\n",
        "待辦事項.append(工作)\n",
        "工作 = input('請輸入待辦事項?')\n",
        "待辦事項.append(工作)\n",
        "工作 = input('請輸入待辦事項?')\n",
        "待辦事項.append(工作)\n",
        "工作 = input('請輸入待辦事項?')\n",
        "待辦事項.append(工作)\n",
        "print(待辦事項.pop(0), 待辦事項.pop(0), 待辦事項)\n",
        "print(待辦事項.pop(), 待辦事項)"
      ],
      "execution_count": 15,
      "outputs": [
        {
          "output_type": "stream",
          "text": [
            "請輸入待辦事項?haha\n",
            "請輸入待辦事項?hihi\n",
            "請輸入待辦事項?ohoh\n",
            "請輸入待辦事項?wow\n",
            "請輸入待辦事項?qq\n",
            "haha hihi ['ohoh', 'wow', 'qq']\n",
            "qq ['ohoh', 'wow']\n"
          ],
          "name": "stdout"
        }
      ]
    },
    {
      "cell_type": "code",
      "metadata": {
        "id": "fEUMoHFCkRIs",
        "colab_type": "code",
        "colab": {}
      },
      "source": [
        ""
      ],
      "execution_count": 0,
      "outputs": []
    },
    {
      "cell_type": "code",
      "metadata": {
        "id": "oN-B1q_wjpzr",
        "colab_type": "code",
        "colab": {}
      },
      "source": [
        ""
      ],
      "execution_count": 0,
      "outputs": []
    }
  ]
}