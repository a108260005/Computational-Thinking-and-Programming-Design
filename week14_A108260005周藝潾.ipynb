{
  "nbformat": 4,
  "nbformat_minor": 0,
  "metadata": {
    "colab": {
      "name": "week14 A108260005周藝潾.ipynb",
      "provenance": [],
      "include_colab_link": true
    },
    "kernelspec": {
      "name": "python3",
      "display_name": "Python 3"
    }
  },
  "cells": [
    {
      "cell_type": "markdown",
      "metadata": {
        "id": "view-in-github",
        "colab_type": "text"
      },
      "source": [
        "<a href=\"https://colab.research.google.com/github/qqqqqq78910/Computational-Thinking-and-Programming-Design/blob/master/week14_A108260005%E5%91%A8%E8%97%9D%E6%BD%BE.ipynb\" target=\"_parent\"><img src=\"https://colab.research.google.com/assets/colab-badge.svg\" alt=\"Open In Colab\"/></a>"
      ]
    },
    {
      "cell_type": "code",
      "metadata": {
        "id": "w_610dwPus3W",
        "colab_type": "code",
        "colab": {
          "base_uri": "https://localhost:8080/",
          "height": 85
        },
        "outputId": "fc124be0-4099-45d5-9e72-72743e620a76"
      },
      "source": [
        "answer = \"b246\"\n",
        "\n",
        "while True:\n",
        "    password = input(\"Enter your password \")\n",
        "    if password == answer:\n",
        "        print(\"ENTER THE SYSTEM\")\n",
        "        break\n",
        "    else:\n",
        "        print(\"Try again\")"
      ],
      "execution_count": 1,
      "outputs": [
        {
          "output_type": "stream",
          "text": [
            "Enter your password 123\n",
            "Try again\n",
            "Enter your password b246\n",
            "ENTER THE SYSTEM\n"
          ],
          "name": "stdout"
        }
      ]
    },
    {
      "cell_type": "code",
      "metadata": {
        "id": "d1Iq04OyztfY",
        "colab_type": "code",
        "colab": {
          "base_uri": "https://localhost:8080/",
          "height": 68
        },
        "outputId": "fa5f2cf2-8e47-4d93-9fc5-72121f82924e"
      },
      "source": [
        "answer = \"b123\"\n",
        "\n",
        "while True:\n",
        "  account = input(\"Enter your account?\")\n",
        "  password = input(\"Enter your password?\")\n",
        "  if account == answer:\n",
        "      print(\"ENTER THE SYSTEM\")\n",
        "      break\n",
        "  else:\n",
        "      print(\"Try Again\")\n"
      ],
      "execution_count": 7,
      "outputs": [
        {
          "output_type": "stream",
          "text": [
            "Enter your account?b123\n",
            "Enter your password?b123\n",
            "ENTER THE SYSTEM\n"
          ],
          "name": "stdout"
        }
      ]
    },
    {
      "cell_type": "code",
      "metadata": {
        "id": "Uzq6n-j70BGk",
        "colab_type": "code",
        "colab": {
          "base_uri": "https://localhost:8080/",
          "height": 51
        },
        "outputId": "2707bb94-8546-48c9-a411-7b6b009323d1"
      },
      "source": [
        " password = \"a123456\"\n",
        "times = 0\n",
        "\n",
        "while times <= 3:\n",
        "    answer = input(\"Enter Your Password:\")\n",
        "    if answer == password:\n",
        "        print(\"ENTER THE SYSTEM\")\n",
        "        break\n",
        "    else:\n",
        "        time = times+1\n",
        "        chance=3-times\n",
        "        print(\"password is wrong!and\",chance,\"second chances\")"
      ],
      "execution_count": 5,
      "outputs": [
        {
          "output_type": "stream",
          "text": [
            "Enter Your Password:a123456\n",
            "ENTER THE SYSTEM\n"
          ],
          "name": "stdout"
        }
      ]
    },
    {
      "cell_type": "code",
      "metadata": {
        "id": "X5JrNXGa1E-m",
        "colab_type": "code",
        "colab": {
          "base_uri": "https://localhost:8080/",
          "height": 204
        },
        "outputId": "5bd43df3-1291-434b-80f9-90f4175a0f95"
      },
      "source": [
        "for i in range(5):\n",
        "    print(i)\n",
        "\n",
        "for i in range(2,5):\n",
        "    print(i)\n",
        "\n",
        "for i in range(2,10,3):\n",
        "    print(i)        "
      ],
      "execution_count": 8,
      "outputs": [
        {
          "output_type": "stream",
          "text": [
            "0\n",
            "1\n",
            "2\n",
            "3\n",
            "4\n",
            "2\n",
            "3\n",
            "4\n",
            "2\n",
            "5\n",
            "8\n"
          ],
          "name": "stdout"
        }
      ]
    },
    {
      "cell_type": "code",
      "metadata": {
        "id": "Bpsggqep5GwZ",
        "colab_type": "code",
        "colab": {
          "base_uri": "https://localhost:8080/",
          "height": 34
        },
        "outputId": "5bf52781-cd87-433c-faab-5291a467e936"
      },
      "source": [
        "range(5)\n",
        "\n",
        "range(2,5)\n",
        "\n",
        "range(2,10,3)"
      ],
      "execution_count": 9,
      "outputs": [
        {
          "output_type": "execute_result",
          "data": {
            "text/plain": [
              "range(2, 10, 3)"
            ]
          },
          "metadata": {
            "tags": []
          },
          "execution_count": 9
        }
      ]
    },
    {
      "cell_type": "code",
      "metadata": {
        "id": "28I30KW95UAj",
        "colab_type": "code",
        "colab": {
          "base_uri": "https://localhost:8080/",
          "height": 136
        },
        "outputId": "d9b0ecb8-8d78-49fa-d196-167aefbdf0af"
      },
      "source": [
        "start = int(input(\"enter a number\"))\n",
        "end = int(input(\"enter a number\"))\n",
        "step = int(input(\"enter a number\"))\n",
        "\n",
        "sum = 0 \n",
        "\n",
        "for i in range(start, end, step):\n",
        "    sum = sum + i\n",
        "    print(\"i is\", i,\"sum equals\", sum)"
      ],
      "execution_count": 12,
      "outputs": [
        {
          "output_type": "stream",
          "text": [
            "enter a number3\n",
            "enter a number13\n",
            "enter a number3\n",
            "i is 3 sum equals 3\n",
            "i is 6 sum equals 9\n",
            "i is 9 sum equals 18\n",
            "i is 12 sum equals 30\n"
          ],
          "name": "stdout"
        }
      ]
    },
    {
      "cell_type": "code",
      "metadata": {
        "id": "h5RHT0yb8XS7",
        "colab_type": "code",
        "colab": {}
      },
      "source": [
        ""
      ],
      "execution_count": 0,
      "outputs": []
    }
  ]
}